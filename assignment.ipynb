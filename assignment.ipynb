{
 "cells": [
  {
   "cell_type": "code",
   "execution_count": 1,
   "id": "41ecd8c2-b8d9-4516-ac48-2c99a2959f50",
   "metadata": {},
   "outputs": [
    {
     "data": {
      "text/plain": [
       "'1 Flask is a microframework offering all the basic features of a web application. It’s easy to get started on and expand with Python’s wealth of libraries and extensions.\\n\\nOn its own, the framework’s capabilities are limited and extra functionalities need to be added with supplemental technologies.'"
      ]
     },
     "execution_count": 1,
     "metadata": {},
     "output_type": "execute_result"
    }
   ],
   "source": [
    "\"\"\"1 Flask is a microframework offering all the basic features of a web application. It’s easy to get started on and expand with Python’s wealth of libraries and extensions.\n",
    "\n",
    "On its own, the framework’s capabilities are limited and extra functionalities need to be added with supplemental technologies.\"\"\""
   ]
  },
  {
   "cell_type": "code",
   "execution_count": 2,
   "id": "0000f81e-082d-4256-91a1-43dc68cb3bbb",
   "metadata": {},
   "outputs": [],
   "source": [
    "#ans 2 in folder ans2"
   ]
  },
  {
   "cell_type": "code",
   "execution_count": 3,
   "id": "9bda5b02-22fb-4e96-be4c-502241b94833",
   "metadata": {},
   "outputs": [],
   "source": [
    "#App routing is used to map the specific URL with the associated function that is intended to perform some task. It is used to access some particular page like Flask Tutorial in the web application."
   ]
  },
  {
   "cell_type": "code",
   "execution_count": 4,
   "id": "14d945ad-5ff8-49d6-8772-6ba51644f67e",
   "metadata": {},
   "outputs": [],
   "source": [
    "#ans 4 in folder ans4"
   ]
  },
  {
   "cell_type": "code",
   "execution_count": 5,
   "id": "7fa5ee30-8633-456e-9638-079125cf188c",
   "metadata": {},
   "outputs": [
    {
     "data": {
      "text/plain": [
       "'from flask import Flask, render_template\\n  \\n  \\n# Create the Flask instance and pass the Flask\\n# constructor, the path of the correct module\\napp = Flask(__name__)\\n  \\n  \\n# Default route added using a decorator, for view function \\'welcome\\'\\n# Landing page of our web application - sportsmain.html\\n@app.route(\\'/\\')\\ndef welcome():\\n    return render_template(\\'sportsmain.html\\')\\n  \\n  \\n# Start with flask web app, with debug as True,\\n# only if this is the starting page\\nif(__name__ == \"__main__\"):\\n    app.run(debug=True)'"
      ]
     },
     "execution_count": 5,
     "metadata": {},
     "output_type": "execute_result"
    }
   ],
   "source": [
    "#5 The url_for() function is very useful for dynamically building a URL for a specific function. The function accepts the name of a function as first argument, and one or more keyword arguments, each corresponding to the variable part of URL.\n",
    "\"\"\"from flask import Flask, render_template\n",
    "  \n",
    "  \n",
    "# Create the Flask instance and pass the Flask\n",
    "# constructor, the path of the correct module\n",
    "app = Flask(__name__)\n",
    "  \n",
    "  \n",
    "# Default route added using a decorator, for view function 'welcome'\n",
    "# Landing page of our web application - sportsmain.html\n",
    "@app.route('/')\n",
    "def welcome():\n",
    "    return render_template('sportsmain.html')\n",
    "  \n",
    "  \n",
    "# Start with flask web app, with debug as True,\n",
    "# only if this is the starting page\n",
    "if(__name__ == \"__main__\"):\n",
    "    app.run(debug=True)\"\"\""
   ]
  },
  {
   "cell_type": "code",
   "execution_count": null,
   "id": "57f90cfa-e6fa-4eb3-be90-676b4e38f813",
   "metadata": {},
   "outputs": [],
   "source": []
  }
 ],
 "metadata": {
  "kernelspec": {
   "display_name": "Python 3 (ipykernel)",
   "language": "python",
   "name": "python3"
  },
  "language_info": {
   "codemirror_mode": {
    "name": "ipython",
    "version": 3
   },
   "file_extension": ".py",
   "mimetype": "text/x-python",
   "name": "python",
   "nbconvert_exporter": "python",
   "pygments_lexer": "ipython3",
   "version": "3.10.8"
  }
 },
 "nbformat": 4,
 "nbformat_minor": 5
}
